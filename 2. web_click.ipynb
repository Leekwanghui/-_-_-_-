{
 "cells": [
  {
   "cell_type": "markdown",
   "metadata": {},
   "source": [
    "### Import"
   ]
  },
  {
   "cell_type": "code",
   "execution_count": 14,
   "metadata": {},
   "outputs": [],
   "source": [
    "import os\n",
    "import random\n",
    "import numpy as np\n",
    "import pandas as pd\n",
    "from tqdm import tqdm\n",
    "import duckdb\n",
    "\n",
    "import plotly.express as px\n",
    "\n",
    "import category_encoders as ce\n",
    "from sklearn.ensemble import AdaBoostClassifier"
   ]
  },
  {
   "cell_type": "code",
   "execution_count": 15,
   "metadata": {},
   "outputs": [],
   "source": [
    "# 동일한 결과 보장을 위해 Seed값을 고정합니다\n",
    "def seed_everything(seed):\n",
    "    random.seed(seed)\n",
    "    os.environ['PYTHONHASHSEED'] = str(seed)\n",
    "    np.random.seed(seed)\n",
    "\n",
    "seed_everything(42) # Seed를 42로 고정"
   ]
  },
  {
   "cell_type": "code",
   "execution_count": 34,
   "metadata": {},
   "outputs": [
    {
     "data": {
      "application/vnd.jupyter.widget-view+json": {
       "model_id": "0e776180639144d6b2fbd9820b7afa72",
       "version_major": 2,
       "version_minor": 0
      },
      "text/plain": [
       "FloatProgress(value=0.0, layout=Layout(width='auto'), style=ProgressStyle(bar_color='black'))"
      ]
     },
     "metadata": {},
     "output_type": "display_data"
    },
    {
     "data": {
      "text/html": [
       "<div>\n",
       "<style scoped>\n",
       "    .dataframe tbody tr th:only-of-type {\n",
       "        vertical-align: middle;\n",
       "    }\n",
       "\n",
       "    .dataframe tbody tr th {\n",
       "        vertical-align: top;\n",
       "    }\n",
       "\n",
       "    .dataframe thead th {\n",
       "        text-align: right;\n",
       "    }\n",
       "</style>\n",
       "<table border=\"1\" class=\"dataframe\">\n",
       "  <thead>\n",
       "    <tr style=\"text-align: right;\">\n",
       "      <th></th>\n",
       "      <th>ID</th>\n",
       "      <th>Click</th>\n",
       "      <th>F01</th>\n",
       "      <th>F02</th>\n",
       "      <th>F03</th>\n",
       "      <th>F04</th>\n",
       "      <th>F05</th>\n",
       "      <th>F06</th>\n",
       "      <th>F07</th>\n",
       "      <th>F08</th>\n",
       "      <th>...</th>\n",
       "      <th>F30</th>\n",
       "      <th>F31</th>\n",
       "      <th>F32</th>\n",
       "      <th>F33</th>\n",
       "      <th>F34</th>\n",
       "      <th>F35</th>\n",
       "      <th>F36</th>\n",
       "      <th>F37</th>\n",
       "      <th>F38</th>\n",
       "      <th>F39</th>\n",
       "    </tr>\n",
       "  </thead>\n",
       "  <tbody>\n",
       "    <tr>\n",
       "      <th>0</th>\n",
       "      <td>TRAIN_21140362</td>\n",
       "      <td>0</td>\n",
       "      <td>NWJHOLF</td>\n",
       "      <td>HCCBXQY</td>\n",
       "      <td>KVMAIVS</td>\n",
       "      <td>48.0</td>\n",
       "      <td>FKNTJIU</td>\n",
       "      <td>277</td>\n",
       "      <td>FFQDCNA</td>\n",
       "      <td>VAWXMCR</td>\n",
       "      <td>...</td>\n",
       "      <td>WWWEXSL</td>\n",
       "      <td>GTISJWW</td>\n",
       "      <td>5944.0</td>\n",
       "      <td>0.0</td>\n",
       "      <td>TFCIGHU</td>\n",
       "      <td>IRUDRFB</td>\n",
       "      <td>6.0</td>\n",
       "      <td>ODMETKK</td>\n",
       "      <td>0.0</td>\n",
       "      <td>JNAGMUQ</td>\n",
       "    </tr>\n",
       "    <tr>\n",
       "      <th>1</th>\n",
       "      <td>TRAIN_23852031</td>\n",
       "      <td>0</td>\n",
       "      <td>KJYBRUL</td>\n",
       "      <td>KCRRSKA</td>\n",
       "      <td>None</td>\n",
       "      <td>2.0</td>\n",
       "      <td>EXQALLT</td>\n",
       "      <td>1</td>\n",
       "      <td>SALCDDS</td>\n",
       "      <td>FTPHMPQ</td>\n",
       "      <td>...</td>\n",
       "      <td>UVUMPZU</td>\n",
       "      <td>GTISJWW</td>\n",
       "      <td>11653.0</td>\n",
       "      <td>0.0</td>\n",
       "      <td>WCXAPAA</td>\n",
       "      <td>IRUDRFB</td>\n",
       "      <td>5.0</td>\n",
       "      <td>HFOQMFF</td>\n",
       "      <td>0.0</td>\n",
       "      <td>OLDNZBK</td>\n",
       "    </tr>\n",
       "    <tr>\n",
       "      <th>2</th>\n",
       "      <td>TRAIN_09278441</td>\n",
       "      <td>0</td>\n",
       "      <td>BIBZAHM</td>\n",
       "      <td>RZPPOZI</td>\n",
       "      <td>UKXCUGQ</td>\n",
       "      <td>1.0</td>\n",
       "      <td>LWZCVHD</td>\n",
       "      <td>1121</td>\n",
       "      <td>XPPYGSM</td>\n",
       "      <td>FTPHMPQ</td>\n",
       "      <td>...</td>\n",
       "      <td>IOJKKVX</td>\n",
       "      <td>GTISJWW</td>\n",
       "      <td>30172.0</td>\n",
       "      <td>0.0</td>\n",
       "      <td>XEWNKRK</td>\n",
       "      <td>IRUDRFB</td>\n",
       "      <td>NaN</td>\n",
       "      <td>CTQCTSA</td>\n",
       "      <td>0.0</td>\n",
       "      <td>DOFQKJN</td>\n",
       "    </tr>\n",
       "    <tr>\n",
       "      <th>3</th>\n",
       "      <td>TRAIN_03765377</td>\n",
       "      <td>0</td>\n",
       "      <td>JCDXFYU</td>\n",
       "      <td>PILDDJU</td>\n",
       "      <td>IAGJDOH</td>\n",
       "      <td>9.0</td>\n",
       "      <td>LFPUEOV</td>\n",
       "      <td>2</td>\n",
       "      <td>PQZBVMG</td>\n",
       "      <td>OFKQGTY</td>\n",
       "      <td>...</td>\n",
       "      <td>UWZSZTZ</td>\n",
       "      <td>KHZNEZF</td>\n",
       "      <td>548.0</td>\n",
       "      <td>2.0</td>\n",
       "      <td>QMOULXS</td>\n",
       "      <td>IRUDRFB</td>\n",
       "      <td>4.0</td>\n",
       "      <td>LLWQGWG</td>\n",
       "      <td>0.0</td>\n",
       "      <td>ZDXPYZS</td>\n",
       "    </tr>\n",
       "    <tr>\n",
       "      <th>4</th>\n",
       "      <td>TRAIN_05261449</td>\n",
       "      <td>0</td>\n",
       "      <td>IIHVFTE</td>\n",
       "      <td>CPNINFY</td>\n",
       "      <td>IAGJDOH</td>\n",
       "      <td>425.0</td>\n",
       "      <td>BDBOJIO</td>\n",
       "      <td>2</td>\n",
       "      <td>OUJPSEV</td>\n",
       "      <td>FTPHMPQ</td>\n",
       "      <td>...</td>\n",
       "      <td>NZGEZLW</td>\n",
       "      <td>GTISJWW</td>\n",
       "      <td>243.0</td>\n",
       "      <td>0.0</td>\n",
       "      <td>QWFSOQZ</td>\n",
       "      <td>IRUDRFB</td>\n",
       "      <td>15.0</td>\n",
       "      <td>RMIWYEY</td>\n",
       "      <td>0.0</td>\n",
       "      <td>QHGYBWW</td>\n",
       "    </tr>\n",
       "  </tbody>\n",
       "</table>\n",
       "<p>5 rows × 41 columns</p>\n",
       "</div>"
      ],
      "text/plain": [
       "               ID  Click      F01      F02      F03    F04      F05   F06  \\\n",
       "0  TRAIN_21140362      0  NWJHOLF  HCCBXQY  KVMAIVS   48.0  FKNTJIU   277   \n",
       "1  TRAIN_23852031      0  KJYBRUL  KCRRSKA     None    2.0  EXQALLT     1   \n",
       "2  TRAIN_09278441      0  BIBZAHM  RZPPOZI  UKXCUGQ    1.0  LWZCVHD  1121   \n",
       "3  TRAIN_03765377      0  JCDXFYU  PILDDJU  IAGJDOH    9.0  LFPUEOV     2   \n",
       "4  TRAIN_05261449      0  IIHVFTE  CPNINFY  IAGJDOH  425.0  BDBOJIO     2   \n",
       "\n",
       "       F07      F08  ...      F30      F31      F32  F33      F34      F35  \\\n",
       "0  FFQDCNA  VAWXMCR  ...  WWWEXSL  GTISJWW   5944.0  0.0  TFCIGHU  IRUDRFB   \n",
       "1  SALCDDS  FTPHMPQ  ...  UVUMPZU  GTISJWW  11653.0  0.0  WCXAPAA  IRUDRFB   \n",
       "2  XPPYGSM  FTPHMPQ  ...  IOJKKVX  GTISJWW  30172.0  0.0  XEWNKRK  IRUDRFB   \n",
       "3  PQZBVMG  OFKQGTY  ...  UWZSZTZ  KHZNEZF    548.0  2.0  QMOULXS  IRUDRFB   \n",
       "4  OUJPSEV  FTPHMPQ  ...  NZGEZLW  GTISJWW    243.0  0.0  QWFSOQZ  IRUDRFB   \n",
       "\n",
       "    F36      F37  F38      F39  \n",
       "0   6.0  ODMETKK  0.0  JNAGMUQ  \n",
       "1   5.0  HFOQMFF  0.0  OLDNZBK  \n",
       "2   NaN  CTQCTSA  0.0  DOFQKJN  \n",
       "3   4.0  LLWQGWG  0.0  ZDXPYZS  \n",
       "4  15.0  RMIWYEY  0.0  QHGYBWW  \n",
       "\n",
       "[5 rows x 41 columns]"
      ]
     },
     "execution_count": 34,
     "metadata": {},
     "output_type": "execute_result"
    }
   ],
   "source": [
    "train_path = '/Users/leekwanghui/Downloads/open-4/train.csv'\n",
    "\n",
    "con = duckdb.connect()\n",
    "\n",
    "df = con.query(f\"\"\"(SELECT *\n",
    "                        FROM read_csv_auto('{train_path}')\n",
    "                        WHERE Click = 0\n",
    "                        ORDER BY random()\n",
    "                        LIMIT 30000)\n",
    "                        UNION ALL\n",
    "                        (SELECT *\n",
    "                        FROM read_csv_auto('{train_path}')\n",
    "                        WHERE Click = 1\n",
    "                        ORDER BY random()\n",
    "                        LIMIT 30000)\"\"\").df()\n",
    "\n",
    "\n",
    "con.close()\n",
    "\n",
    "df.head()"
   ]
  },
  {
   "cell_type": "code",
   "execution_count": 19,
   "metadata": {},
   "outputs": [],
   "source": [
    "test = pd.read_csv('/Users/leekwanghui/Downloads/open-4/test.csv')"
   ]
  },
  {
   "cell_type": "markdown",
   "metadata": {},
   "source": [
    "### EDA 1 : Sparse and Dense"
   ]
  },
  {
   "cell_type": "code",
   "execution_count": 31,
   "metadata": {
    "scrolled": true
   },
   "outputs": [
    {
     "ename": "AttributeError",
     "evalue": "'str' object has no attribute 'head'",
     "output_type": "error",
     "traceback": [
      "\u001b[0;31m---------------------------------------------------------------------------\u001b[0m",
      "\u001b[0;31mAttributeError\u001b[0m                            Traceback (most recent call last)",
      "Cell \u001b[0;32mIn[31], line 1\u001b[0m\n\u001b[0;32m----> 1\u001b[0m train\u001b[38;5;241m.\u001b[39mhead()\n",
      "\u001b[0;31mAttributeError\u001b[0m: 'str' object has no attribute 'head'"
     ]
    }
   ],
   "source": [
    "train.head()"
   ]
  },
  {
   "cell_type": "markdown",
   "metadata": {},
   "source": [
    "### EDA 2 : Imbalance"
   ]
  },
  {
   "cell_type": "code",
   "execution_count": 36,
   "metadata": {},
   "outputs": [
    {
     "ename": "TypeError",
     "evalue": "string indices must be integers, not 'str'",
     "output_type": "error",
     "traceback": [
      "\u001b[0;31m---------------------------------------------------------------------------\u001b[0m",
      "\u001b[0;31mTypeError\u001b[0m                                 Traceback (most recent call last)",
      "Cell \u001b[0;32mIn[36], line 1\u001b[0m\n\u001b[0;32m----> 1\u001b[0m click \u001b[38;5;241m=\u001b[39m train[\u001b[38;5;124m'\u001b[39m\u001b[38;5;124mClick\u001b[39m\u001b[38;5;124m'\u001b[39m]\u001b[38;5;241m.\u001b[39mvalue_counts(normalize\u001b[38;5;241m=\u001b[39m\u001b[38;5;28;01mTrue\u001b[39;00m)\n\u001b[1;32m      3\u001b[0m click_figure \u001b[38;5;241m=\u001b[39m px\u001b[38;5;241m.\u001b[39mbar(click,\n\u001b[1;32m      4\u001b[0m              x\u001b[38;5;241m=\u001b[39m[\u001b[38;5;124m'\u001b[39m\u001b[38;5;124mNot Clicked : 0\u001b[39m\u001b[38;5;124m'\u001b[39m, \u001b[38;5;124m'\u001b[39m\u001b[38;5;124mClicked : 1\u001b[39m\u001b[38;5;124m'\u001b[39m],\n\u001b[1;32m      5\u001b[0m              y\u001b[38;5;241m=\u001b[39mclick\u001b[38;5;241m.\u001b[39mvalues\u001b[38;5;241m.\u001b[39mtolist(),\n\u001b[0;32m   (...)\u001b[0m\n\u001b[1;32m      8\u001b[0m              height \u001b[38;5;241m=\u001b[39m \u001b[38;5;241m500\u001b[39m\n\u001b[1;32m      9\u001b[0m             )\n\u001b[1;32m     11\u001b[0m \u001b[38;5;66;03m# 그래프 표시\u001b[39;00m\n",
      "\u001b[0;31mTypeError\u001b[0m: string indices must be integers, not 'str'"
     ]
    }
   ],
   "source": [
    "click = train['Click'].value_counts(normalize=True)\n",
    "\n",
    "click_figure = px.bar(click,\n",
    "             x=['Not Clicked : 0', 'Clicked : 1'],\n",
    "             y=click.values.tolist(),\n",
    "             labels={'x': 'Value', 'y': 'Percentage'},\n",
    "             width = 450,\n",
    "             height = 500\n",
    "            )\n",
    "\n",
    "# 그래프 표시\n",
    "click_figure.show()"
   ]
  },
  {
   "cell_type": "markdown",
   "metadata": {},
   "source": [
    "### Data Preprocessing 1 : Select x, y"
   ]
  },
  {
   "cell_type": "code",
   "execution_count": 33,
   "metadata": {},
   "outputs": [
    {
     "ename": "AttributeError",
     "evalue": "'str' object has no attribute 'drop'",
     "output_type": "error",
     "traceback": [
      "\u001b[0;31m---------------------------------------------------------------------------\u001b[0m",
      "\u001b[0;31mAttributeError\u001b[0m                            Traceback (most recent call last)",
      "Cell \u001b[0;32mIn[33], line 1\u001b[0m\n\u001b[0;32m----> 1\u001b[0m train_x \u001b[38;5;241m=\u001b[39m train\u001b[38;5;241m.\u001b[39mdrop(columns\u001b[38;5;241m=\u001b[39m[\u001b[38;5;124m'\u001b[39m\u001b[38;5;124mID\u001b[39m\u001b[38;5;124m'\u001b[39m, \u001b[38;5;124m'\u001b[39m\u001b[38;5;124mClick\u001b[39m\u001b[38;5;124m'\u001b[39m])\n\u001b[1;32m      2\u001b[0m train_y \u001b[38;5;241m=\u001b[39m train[\u001b[38;5;124m'\u001b[39m\u001b[38;5;124mClick\u001b[39m\u001b[38;5;124m'\u001b[39m]\n\u001b[1;32m      4\u001b[0m test_x \u001b[38;5;241m=\u001b[39m test\u001b[38;5;241m.\u001b[39mdrop(columns\u001b[38;5;241m=\u001b[39m[\u001b[38;5;124m'\u001b[39m\u001b[38;5;124mID\u001b[39m\u001b[38;5;124m'\u001b[39m])\n",
      "\u001b[0;31mAttributeError\u001b[0m: 'str' object has no attribute 'drop'"
     ]
    }
   ],
   "source": [
    "train_x = train.drop(columns=['ID', 'Click'])\n",
    "train_y = train['Click']\n",
    "\n",
    "test_x = test.drop(columns=['ID'])"
   ]
  },
  {
   "cell_type": "markdown",
   "metadata": {},
   "source": [
    "### Data Preprocessing 2 : Fill NaN"
   ]
  },
  {
   "cell_type": "code",
   "execution_count": 24,
   "metadata": {},
   "outputs": [
    {
     "ename": "NameError",
     "evalue": "name 'train_x' is not defined",
     "output_type": "error",
     "traceback": [
      "\u001b[0;31m---------------------------------------------------------------------------\u001b[0m",
      "\u001b[0;31mNameError\u001b[0m                                 Traceback (most recent call last)",
      "Cell \u001b[0;32mIn[24], line 1\u001b[0m\n\u001b[0;32m----> 1\u001b[0m \u001b[38;5;28;01mfor\u001b[39;00m col \u001b[38;5;129;01min\u001b[39;00m tqdm(train_x\u001b[38;5;241m.\u001b[39mcolumns):\n\u001b[1;32m      2\u001b[0m     \u001b[38;5;28;01mif\u001b[39;00m train_x[col]\u001b[38;5;241m.\u001b[39misnull()\u001b[38;5;241m.\u001b[39msum() \u001b[38;5;241m!=\u001b[39m \u001b[38;5;241m0\u001b[39m:\n\u001b[1;32m      3\u001b[0m         train_x[col]\u001b[38;5;241m.\u001b[39mfillna(\u001b[38;5;241m0\u001b[39m, inplace\u001b[38;5;241m=\u001b[39m\u001b[38;5;28;01mTrue\u001b[39;00m)\n",
      "\u001b[0;31mNameError\u001b[0m: name 'train_x' is not defined"
     ]
    }
   ],
   "source": [
    "for col in tqdm(train_x.columns):\n",
    "    if train_x[col].isnull().sum() != 0:\n",
    "        train_x[col].fillna(0, inplace=True)\n",
    "        test_x[col].fillna(0, inplace=True)"
   ]
  },
  {
   "cell_type": "markdown",
   "metadata": {},
   "source": [
    "### Data Preprocessing 3 : Count Encoding"
   ]
  },
  {
   "cell_type": "code",
   "execution_count": 23,
   "metadata": {},
   "outputs": [
    {
     "ename": "NameError",
     "evalue": "name 'train_x' is not defined",
     "output_type": "error",
     "traceback": [
      "\u001b[0;31m---------------------------------------------------------------------------\u001b[0m",
      "\u001b[0;31mNameError\u001b[0m                                 Traceback (most recent call last)",
      "Cell \u001b[0;32mIn[23], line 1\u001b[0m\n\u001b[0;32m----> 1\u001b[0m encoding_target \u001b[38;5;241m=\u001b[39m \u001b[38;5;28mlist\u001b[39m(train_x\u001b[38;5;241m.\u001b[39mdtypes[train_x\u001b[38;5;241m.\u001b[39mdtypes \u001b[38;5;241m==\u001b[39m \u001b[38;5;124m\"\u001b[39m\u001b[38;5;124mobject\u001b[39m\u001b[38;5;124m\"\u001b[39m]\u001b[38;5;241m.\u001b[39mindex)\n\u001b[1;32m      3\u001b[0m enc \u001b[38;5;241m=\u001b[39m ce\u001b[38;5;241m.\u001b[39mCountEncoder(cols \u001b[38;5;241m=\u001b[39m encoding_target)\u001b[38;5;241m.\u001b[39mfit(train_x, train_y)\n\u001b[1;32m      4\u001b[0m X_train_encoded \u001b[38;5;241m=\u001b[39m enc\u001b[38;5;241m.\u001b[39mtransform(train_x)\n",
      "\u001b[0;31mNameError\u001b[0m: name 'train_x' is not defined"
     ]
    }
   ],
   "source": [
    "encoding_target = list(train_x.dtypes[train_x.dtypes == \"object\"].index)\n",
    "\n",
    "enc = ce.CountEncoder(cols = encoding_target).fit(train_x, train_y)\n",
    "X_train_encoded = enc.transform(train_x)\n",
    "X_test_encoded = enc.transform(test_x)"
   ]
  },
  {
   "cell_type": "markdown",
   "metadata": {},
   "source": [
    "### Model Setting"
   ]
  },
  {
   "cell_type": "code",
   "execution_count": 20,
   "metadata": {},
   "outputs": [],
   "source": [
    "model = AdaBoostClassifier()"
   ]
  },
  {
   "cell_type": "markdown",
   "metadata": {},
   "source": [
    "### Model Train and Inference"
   ]
  },
  {
   "cell_type": "code",
   "execution_count": 22,
   "metadata": {},
   "outputs": [
    {
     "ename": "NameError",
     "evalue": "name 'X_train_encoded' is not defined",
     "output_type": "error",
     "traceback": [
      "\u001b[0;31m---------------------------------------------------------------------------\u001b[0m",
      "\u001b[0;31mNameError\u001b[0m                                 Traceback (most recent call last)",
      "Cell \u001b[0;32mIn[22], line 1\u001b[0m\n\u001b[0;32m----> 1\u001b[0m model\u001b[38;5;241m.\u001b[39mfit(X_train_encoded, train_y)\n",
      "\u001b[0;31mNameError\u001b[0m: name 'X_train_encoded' is not defined"
     ]
    }
   ],
   "source": [
    "model.fit(X_train_encoded, train_y)"
   ]
  },
  {
   "cell_type": "code",
   "execution_count": 11,
   "metadata": {},
   "outputs": [
    {
     "data": {
      "text/plain": [
       "array([0, 1])"
      ]
     },
     "metadata": {},
     "output_type": "display_data"
    },
    {
     "data": {
      "text/plain": [
       "array([[0.5045921 , 0.4954079 ],\n",
       "       [0.50813471, 0.49186529],\n",
       "       [0.50709193, 0.49290807],\n",
       "       ...,\n",
       "       [0.50982663, 0.49017337],\n",
       "       [0.50648163, 0.49351837],\n",
       "       [0.50587473, 0.49412527]])"
      ]
     },
     "metadata": {},
     "output_type": "display_data"
    }
   ],
   "source": [
    "pred = model.predict_proba(X_test_encoded)\n",
    "display(model.classes_)\n",
    "display(pred)"
   ]
  },
  {
   "cell_type": "markdown",
   "metadata": {},
   "source": [
    "### Submission"
   ]
  },
  {
   "cell_type": "code",
   "execution_count": 12,
   "metadata": {},
   "outputs": [
    {
     "data": {
      "text/html": [
       "<div>\n",
       "<style scoped>\n",
       "    .dataframe tbody tr th:only-of-type {\n",
       "        vertical-align: middle;\n",
       "    }\n",
       "\n",
       "    .dataframe tbody tr th {\n",
       "        vertical-align: top;\n",
       "    }\n",
       "\n",
       "    .dataframe thead th {\n",
       "        text-align: right;\n",
       "    }\n",
       "</style>\n",
       "<table border=\"1\" class=\"dataframe\">\n",
       "  <thead>\n",
       "    <tr style=\"text-align: right;\">\n",
       "      <th></th>\n",
       "      <th>ID</th>\n",
       "      <th>Click</th>\n",
       "    </tr>\n",
       "  </thead>\n",
       "  <tbody>\n",
       "    <tr>\n",
       "      <th>0</th>\n",
       "      <td>TEST_0000000</td>\n",
       "      <td>0</td>\n",
       "    </tr>\n",
       "    <tr>\n",
       "      <th>1</th>\n",
       "      <td>TEST_0000001</td>\n",
       "      <td>0</td>\n",
       "    </tr>\n",
       "    <tr>\n",
       "      <th>2</th>\n",
       "      <td>TEST_0000002</td>\n",
       "      <td>0</td>\n",
       "    </tr>\n",
       "    <tr>\n",
       "      <th>3</th>\n",
       "      <td>TEST_0000003</td>\n",
       "      <td>0</td>\n",
       "    </tr>\n",
       "    <tr>\n",
       "      <th>4</th>\n",
       "      <td>TEST_0000004</td>\n",
       "      <td>0</td>\n",
       "    </tr>\n",
       "    <tr>\n",
       "      <th>...</th>\n",
       "      <td>...</td>\n",
       "      <td>...</td>\n",
       "    </tr>\n",
       "    <tr>\n",
       "      <th>4538536</th>\n",
       "      <td>TEST_4538536</td>\n",
       "      <td>0</td>\n",
       "    </tr>\n",
       "    <tr>\n",
       "      <th>4538537</th>\n",
       "      <td>TEST_4538537</td>\n",
       "      <td>0</td>\n",
       "    </tr>\n",
       "    <tr>\n",
       "      <th>4538538</th>\n",
       "      <td>TEST_4538538</td>\n",
       "      <td>0</td>\n",
       "    </tr>\n",
       "    <tr>\n",
       "      <th>4538539</th>\n",
       "      <td>TEST_4538539</td>\n",
       "      <td>0</td>\n",
       "    </tr>\n",
       "    <tr>\n",
       "      <th>4538540</th>\n",
       "      <td>TEST_4538540</td>\n",
       "      <td>0</td>\n",
       "    </tr>\n",
       "  </tbody>\n",
       "</table>\n",
       "<p>4538541 rows × 2 columns</p>\n",
       "</div>"
      ],
      "text/plain": [
       "                   ID  Click\n",
       "0        TEST_0000000      0\n",
       "1        TEST_0000001      0\n",
       "2        TEST_0000002      0\n",
       "3        TEST_0000003      0\n",
       "4        TEST_0000004      0\n",
       "...               ...    ...\n",
       "4538536  TEST_4538536      0\n",
       "4538537  TEST_4538537      0\n",
       "4538538  TEST_4538538      0\n",
       "4538539  TEST_4538539      0\n",
       "4538540  TEST_4538540      0\n",
       "\n",
       "[4538541 rows x 2 columns]"
      ]
     },
     "execution_count": 12,
     "metadata": {},
     "output_type": "execute_result"
    }
   ],
   "source": [
    "sample_submission = pd.read_csv('sample_submission.csv')\n",
    "sample_submission"
   ]
  },
  {
   "cell_type": "code",
   "execution_count": 13,
   "metadata": {},
   "outputs": [
    {
     "data": {
      "text/html": [
       "<div>\n",
       "<style scoped>\n",
       "    .dataframe tbody tr th:only-of-type {\n",
       "        vertical-align: middle;\n",
       "    }\n",
       "\n",
       "    .dataframe tbody tr th {\n",
       "        vertical-align: top;\n",
       "    }\n",
       "\n",
       "    .dataframe thead th {\n",
       "        text-align: right;\n",
       "    }\n",
       "</style>\n",
       "<table border=\"1\" class=\"dataframe\">\n",
       "  <thead>\n",
       "    <tr style=\"text-align: right;\">\n",
       "      <th></th>\n",
       "      <th>ID</th>\n",
       "      <th>Click</th>\n",
       "    </tr>\n",
       "  </thead>\n",
       "  <tbody>\n",
       "    <tr>\n",
       "      <th>0</th>\n",
       "      <td>TEST_0000000</td>\n",
       "      <td>0.495408</td>\n",
       "    </tr>\n",
       "    <tr>\n",
       "      <th>1</th>\n",
       "      <td>TEST_0000001</td>\n",
       "      <td>0.491865</td>\n",
       "    </tr>\n",
       "    <tr>\n",
       "      <th>2</th>\n",
       "      <td>TEST_0000002</td>\n",
       "      <td>0.492908</td>\n",
       "    </tr>\n",
       "    <tr>\n",
       "      <th>3</th>\n",
       "      <td>TEST_0000003</td>\n",
       "      <td>0.493060</td>\n",
       "    </tr>\n",
       "    <tr>\n",
       "      <th>4</th>\n",
       "      <td>TEST_0000004</td>\n",
       "      <td>0.498137</td>\n",
       "    </tr>\n",
       "    <tr>\n",
       "      <th>...</th>\n",
       "      <td>...</td>\n",
       "      <td>...</td>\n",
       "    </tr>\n",
       "    <tr>\n",
       "      <th>4538536</th>\n",
       "      <td>TEST_4538536</td>\n",
       "      <td>0.492723</td>\n",
       "    </tr>\n",
       "    <tr>\n",
       "      <th>4538537</th>\n",
       "      <td>TEST_4538537</td>\n",
       "      <td>0.496791</td>\n",
       "    </tr>\n",
       "    <tr>\n",
       "      <th>4538538</th>\n",
       "      <td>TEST_4538538</td>\n",
       "      <td>0.490173</td>\n",
       "    </tr>\n",
       "    <tr>\n",
       "      <th>4538539</th>\n",
       "      <td>TEST_4538539</td>\n",
       "      <td>0.493518</td>\n",
       "    </tr>\n",
       "    <tr>\n",
       "      <th>4538540</th>\n",
       "      <td>TEST_4538540</td>\n",
       "      <td>0.494125</td>\n",
       "    </tr>\n",
       "  </tbody>\n",
       "</table>\n",
       "<p>4538541 rows × 2 columns</p>\n",
       "</div>"
      ],
      "text/plain": [
       "                   ID     Click\n",
       "0        TEST_0000000  0.495408\n",
       "1        TEST_0000001  0.491865\n",
       "2        TEST_0000002  0.492908\n",
       "3        TEST_0000003  0.493060\n",
       "4        TEST_0000004  0.498137\n",
       "...               ...       ...\n",
       "4538536  TEST_4538536  0.492723\n",
       "4538537  TEST_4538537  0.496791\n",
       "4538538  TEST_4538538  0.490173\n",
       "4538539  TEST_4538539  0.493518\n",
       "4538540  TEST_4538540  0.494125\n",
       "\n",
       "[4538541 rows x 2 columns]"
      ]
     },
     "execution_count": 13,
     "metadata": {},
     "output_type": "execute_result"
    }
   ],
   "source": [
    "sample_submission['Click'] = pred[:,1]\n",
    "sample_submission"
   ]
  },
  {
   "cell_type": "code",
   "execution_count": 14,
   "metadata": {},
   "outputs": [],
   "source": [
    "sample_submission.to_csv('baseline_submission.csv', index=False)"
   ]
  }
 ],
 "metadata": {
  "kernelspec": {
   "display_name": "Python 3 (ipykernel)",
   "language": "python",
   "name": "python3"
  },
  "language_info": {
   "codemirror_mode": {
    "name": "ipython",
    "version": 3
   },
   "file_extension": ".py",
   "mimetype": "text/x-python",
   "name": "python",
   "nbconvert_exporter": "python",
   "pygments_lexer": "ipython3",
   "version": "3.11.5"
  }
 },
 "nbformat": 4,
 "nbformat_minor": 2
}
